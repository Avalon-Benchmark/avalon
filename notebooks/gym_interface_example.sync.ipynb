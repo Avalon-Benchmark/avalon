{
 "cells": [
  {
   "cell_type": "code",
   "execution_count": null,
   "metadata": {
    "pycharm": {
     "name": ""
    }
   },
   "outputs": [],
   "source": [
    "import shutil\n",
    "from pathlib import Path\n",
    "\n",
    "from avalon.agent.godot.godot_gym import AvalonEnv\n",
    "from avalon.agent.godot.godot_gym import GodotEnvironmentParams\n",
    "from avalon.agent.godot.godot_gym import TrainingProtocolChoice\n",
    "from avalon.datagen.env_helper import display_video\n",
    "from avalon.datagen.world_creation.constants import AvalonTask\n",
    "from avalon.datagen.world_creation.world_generator import GenerateAvalonWorldParams\n",
    "from avalon.datagen.world_creation.world_generator import generate_world"
   ]
  },
  {
   "cell_type": "code",
   "execution_count": null,
   "metadata": {
    "pycharm": {
     "name": "#%%\n"
    }
   },
   "outputs": [],
   "source": [
    "OUTPUT_FOLDER = Path(\"./output/\").absolute()\n",
    "if OUTPUT_FOLDER.exists():\n",
    "    shutil.rmtree(OUTPUT_FOLDER)\n",
    "\n",
    "params = generate_world(\n",
    "    GenerateAvalonWorldParams(\n",
    "        AvalonTask.MOVE,\n",
    "        difficulty=1,\n",
    "        seed=42,\n",
    "        index=0,\n",
    "        output=str(OUTPUT_FOLDER),\n",
    "    )\n",
    ")"
   ]
  },
  {
   "cell_type": "code",
   "execution_count": null,
   "metadata": {
    "pycharm": {
     "name": "#%%\n"
    }
   },
   "outputs": [],
   "source": [
    "env_params = GodotEnvironmentParams(\n",
    "    resolution=256,\n",
    "    training_protocol=TrainingProtocolChoice.SINGLE_TASK_FIGHT,\n",
    "    initial_difficulty=1,\n",
    ")\n",
    "env = AvalonEnv(env_params)\n",
    "env.reset_nicely_with_specific_world(episode_seed=0, world_params=params)\n",
    "\n",
    "\n",
    "def random_env_step():\n",
    "    action = env.action_space.sample()\n",
    "    obs, reward, done, info = env.step(action)\n",
    "    if done:\n",
    "        env.reset()\n",
    "    return obs\n",
    "\n",
    "\n",
    "observations = [random_env_step() for _ in range(50)]"
   ]
  },
  {
   "cell_type": "code",
   "execution_count": null,
   "metadata": {
    "pycharm": {
     "name": "#%%\n"
    }
   },
   "outputs": [],
   "source": [
    "display_video(observations, fps=10)"
   ]
  }
 ],
 "metadata": {
  "kernelspec": {
   "display_name": "Python 3 (ipykernel)",
   "language": "python",
   "name": "python3"
  },
  "language_info": {
   "codemirror_mode": {
    "name": "ipython",
    "version": 3
   },
   "file_extension": ".py",
   "mimetype": "text/x-python",
   "name": "python",
   "nbconvert_exporter": "python",
   "pygments_lexer": "ipython3",
   "version": "3.9.5"
  }
 },
 "nbformat": 4,
 "nbformat_minor": 4
}
