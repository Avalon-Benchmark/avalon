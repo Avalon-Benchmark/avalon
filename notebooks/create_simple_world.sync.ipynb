{
 "cells": [
  {
   "cell_type": "code",
   "execution_count": null,
   "metadata": {
    "pycharm": {
     "name": ""
    }
   },
   "outputs": [],
   "source": [
    "from pathlib import Path\n",
    "\n",
    "import numpy as np\n",
    "from scipy import stats\n",
    "\n",
    "from avalon.common.log_utils import enable_debug_logging\n",
    "from avalon.datagen.world_creation.configs.export import get_oculus_export_config\n",
    "from avalon.datagen.world_creation.entities.constants import CANONICAL_FOOD_HEIGHT_ON_TREE\n",
    "from avalon.datagen.world_creation.entities.constants import FOOD_TREE_VISIBLE_HEIGHT\n",
    "from avalon.datagen.world_creation.tasks.eat import add_food_tree_for_simple_task\n",
    "from avalon.datagen.world_creation.types import WorldType\n",
    "from avalon.datagen.world_creation.worlds.creation import create_world_for_skill_scenario\n",
    "from avalon.datagen.world_creation.worlds.export import export_world\n",
    "\n",
    "enable_debug_logging()"
   ]
  },
  {
   "cell_type": "code",
   "execution_count": null,
   "metadata": {},
   "outputs": [],
   "source": [
    "difficulty = 0.5\n",
    "size_in_meters = 50.0\n",
    "world_type = WorldType.CONTINENT\n",
    "\n",
    "# The export config you use depends on your use case, ee datagen/world_creation/configs/export.py for others\n",
    "base = get_oculus_export_config()\n",
    "\n",
    "export_configs = [\n",
    "    base,\n",
    "]"
   ]
  },
  {
   "cell_type": "code",
   "execution_count": null,
   "metadata": {},
   "outputs": [],
   "source": [
    "for i, export_config in enumerate(export_configs):\n",
    "    rand = np.random.default_rng(0)\n",
    "\n",
    "    world, locations = create_world_for_skill_scenario(\n",
    "        rand,\n",
    "        difficulty,\n",
    "        CANONICAL_FOOD_HEIGHT_ON_TREE,\n",
    "        stats.norm(size_in_meters, size_in_meters / 5),\n",
    "        world_type=world_type,\n",
    "        export_config=export_config,\n",
    "        visibility_height=FOOD_TREE_VISIBLE_HEIGHT,\n",
    "    )\n",
    "\n",
    "    world = add_food_tree_for_simple_task(world, locations)\n",
    "    world = world.add_spawn(rand, difficulty, locations.spawn, locations.goal)\n",
    "\n",
    "    output_path = Path(f\"/tmp/profiling_levels/level_{export_config.name}\")\n",
    "    output_path.mkdir(parents=True, exist_ok=True)\n",
    "    export_world(output_path, rand, world)"
   ]
  }
 ],
 "metadata": {
  "kernelspec": {
   "display_name": "Python 3 (ipykernel)",
   "language": "python",
   "name": "python3"
  },
  "language_info": {
   "codemirror_mode": {
    "name": "ipython",
    "version": 3
   },
   "file_extension": ".py",
   "mimetype": "text/x-python",
   "name": "python",
   "nbconvert_exporter": "python",
   "pygments_lexer": "ipython3",
   "version": "3.9.5"
  }
 },
 "nbformat": 4,
 "nbformat_minor": 4
}
