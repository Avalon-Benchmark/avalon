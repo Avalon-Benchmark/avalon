{
 "cells": [
  {
   "cell_type": "markdown",
   "id": "7bea637a",
   "metadata": {
    "lines_to_next_cell": 0
   },
   "source": [
    "## Custom Skill Worlds\n",
    "In this tutorial we'll cover:\n",
    "1. Using avalon's world generation internals for creating custom tasks.\n",
    "2. Inspecting worlds with avalon's custom Godot editor.\n",
    "3. Testing the world in mouse and keyboard mode with Godot's debugger."
   ]
  },
  {
   "cell_type": "code",
   "execution_count": null,
   "id": "9f147dea",
   "metadata": {
    "execution": {
     "iopub.execute_input": "2022-10-27T00:26:05.841142Z",
     "iopub.status.busy": "2022-10-27T00:26:05.840563Z",
     "iopub.status.idle": "2022-10-27T00:26:07.001456Z",
     "shell.execute_reply": "2022-10-27T00:26:07.001648Z"
    },
    "lines_to_next_cell": 1
   },
   "outputs": [],
   "source": [
    "from pathlib import Path\n",
    "from typing import Sequence\n",
    "\n",
    "import attr\n",
    "import numpy as np\n",
    "from scipy import stats\n",
    "\n",
    "from avalon.common.log_utils import configure_local_logger\n",
    "from avalon.datagen.godot_env.interactive_godot_process import AVALON_HUMAN_WORLDS_PATH\n",
    "from avalon.datagen.world_creation.configs.export import ExportConfig\n",
    "from avalon.datagen.world_creation.configs.export import get_agent_export_config\n",
    "from avalon.datagen.world_creation.configs.export import get_mouse_and_keyboard_export_config\n",
    "from avalon.datagen.world_creation.entities.animals import Frog\n",
    "from avalon.datagen.world_creation.entities.constants import CANONICAL_FOOD_HEIGHT_ON_TREE\n",
    "from avalon.datagen.world_creation.entities.constants import FOOD_TREE_VISIBLE_HEIGHT\n",
    "from avalon.datagen.world_creation.entities.item import InstancedDynamicItem\n",
    "from avalon.datagen.world_creation.entities.tools.weapons import Stick\n",
    "from avalon.datagen.world_creation.tasks.eat import add_food_tree_for_simple_task\n",
    "from avalon.datagen.world_creation.types import WorldType\n",
    "from avalon.datagen.world_creation.worlds.creation import create_world_for_skill_scenario\n",
    "from avalon.datagen.world_creation.worlds.export import export_world\n",
    "from avalon.datagen.world_creation.worlds.export import get_world_slug\n",
    "\n",
    "configure_local_logger()"
   ]
  },
  {
   "cell_type": "markdown",
   "id": "83468cc4",
   "metadata": {
    "lines_to_next_cell": 0
   },
   "source": [
    "### `create_simple_world`\n",
    "`create_world_for_skill_scenario` generates our terrain and scenery,\n",
    "varying foliage, biomes, and terrain based on `diversity` and `world_type`\n",
    "(`PLATONIC`, `ARCHIPELAGO`, or `CONTINENT`).\n",
    "\n",
    "Specific tasks will then customize the world further,\n",
    "adding task-specific animals, items, and terrain obstacles.\n"
   ]
  },
  {
   "cell_type": "code",
   "execution_count": 2,
   "id": "fd9eef10",
   "metadata": {
    "execution": {
     "iopub.execute_input": "2022-10-27T00:26:07.005121Z",
     "iopub.status.busy": "2022-10-27T00:26:07.004942Z",
     "iopub.status.idle": "2022-10-27T00:26:07.005881Z",
     "shell.execute_reply": "2022-10-27T00:26:07.006010Z"
    },
    "lines_to_next_cell": 2
   },
   "outputs": [],
   "source": [
    "def create_simple_world(\n",
    "    output_path: Path,\n",
    "    export_config: ExportConfig,\n",
    "    world_type: WorldType = WorldType.CONTINENT,\n",
    "    difficulty: float = 0.1,\n",
    "    size_in_meters: float = 20.0,\n",
    "    seed: int = 0,\n",
    "    items_near_player: Sequence[InstancedDynamicItem] = [],\n",
    ") -> Path:\n",
    "\n",
    "    rand = np.random.default_rng(seed)\n",
    "\n",
    "    # create_world_for_skill_scenario generates our terrain and scenery,\n",
    "    # adding automatic diversity\n",
    "    #\n",
    "    # Available world types are PLATONIC, ARCHIPELAGO, and CONTINENT\n",
    "    world, locations = create_world_for_skill_scenario(\n",
    "        rand,\n",
    "        diversity=difficulty,\n",
    "        food_height=CANONICAL_FOOD_HEIGHT_ON_TREE,\n",
    "        goal_distance=stats.norm(size_in_meters, size_in_meters / 5),\n",
    "        world_type=world_type,\n",
    "        export_config=export_config,\n",
    "        visibility_height=FOOD_TREE_VISIBLE_HEIGHT,\n",
    "    )\n",
    "\n",
    "    world = add_food_tree_for_simple_task(world, locations)\n",
    "    world = world.add_spawn(rand, difficulty, locations.spawn, locations.goal)\n",
    "    for item in items_near_player:\n",
    "        relative_to_player = item.position + locations.spawn\n",
    "        item = attr.evolve(item, position=relative_to_player)\n",
    "        world = world.add_item(item, item.get_offset())\n",
    "\n",
    "    custom_task_name = f\"simple_{world_type.name.lower()}_{size_in_meters}\"\n",
    "    world_id = get_world_slug(custom_task_name, seed, difficulty, is_practice=True)\n",
    "\n",
    "    export_world(output_path / f\"{world_id}\", rand, world)\n",
    "\n",
    "    return output_path\n",
    "\n",
    "\n",
    "items = [\n",
    "    Stick(position=np.array([2.0, 0.0, 0.0])),\n",
    "    Frog(position=np.array([0.0, 0.0, 3.0])),\n",
    "]"
   ]
  },
  {
   "cell_type": "markdown",
   "id": "6dc788a6",
   "metadata": {
    "lines_to_next_cell": 0
   },
   "source": [
    "## Generating sample worlds\n",
    "We'll write our worlds directly into `AVALON_HUMAN_WORLDS_PATH` for manual inspection."
   ]
  },
  {
   "cell_type": "code",
   "execution_count": 3,
   "id": "ca88d54b",
   "metadata": {
    "execution": {
     "iopub.execute_input": "2022-10-27T00:26:07.007494Z",
     "iopub.status.busy": "2022-10-27T00:26:07.007328Z",
     "iopub.status.idle": "2022-10-27T00:26:07.416994Z",
     "shell.execute_reply": "2022-10-27T00:26:07.417169Z"
    }
   },
   "outputs": [],
   "source": [
    "is_for_human_inspection = True\n",
    "if is_for_human_inspection:\n",
    "    export_config = get_mouse_and_keyboard_export_config()\n",
    "    output_path = Path(AVALON_HUMAN_WORLDS_PATH)\n",
    "else:\n",
    "    export_config = get_agent_export_config()\n",
    "    output_path = Path(\"/tmp/example_worlds\")\n",
    "\n",
    "exported_path = create_simple_world(output_path, export_config, items_near_player=items)\n",
    "\n",
    "# exploring some diversity\n",
    "more_diverse_options = [\n",
    "    (WorldType.ARCHIPELAGO, 0.1),\n",
    "    (WorldType.CONTINENT, 0.5),\n",
    "    (WorldType.PLATONIC, 0.75),\n",
    "]\n",
    "\n",
    "for world_type, difficulty in more_diverse_options:\n",
    "    create_simple_world(output_path, export_config, world_type, difficulty, items_near_player=items)"
   ]
  },
  {
   "cell_type": "markdown",
   "id": "2cbe4ac8",
   "metadata": {},
   "source": [
    "### Inspecting and running worlds\n",
    "Now that you've generated some worlds, you can inspect and test them in the godot editor:\n",
    "```sh\n",
    "python -m avalon.install_godot_binary\n",
    "python -m avalon.for_humans launch_editor\n",
    "```\n",
    "\n",
    "### Inspecting the world\n",
    "Once you've opened the editor, your should be able to find your worlds' main scenes under `worlds`, such as\n",
    "`worlds/practice__simple_continent_20__0_0_1/main.tscn`.\n",
    "Double clicking the `main.tscn` scene will open it in the editor for inspection:\n",
    "![opened_in_godot](https://user-images.githubusercontent.com/8343799/198162544-9697b0e0-dcc6-488a-b2fe-edc31434fe2c.png)\n",
    "\n",
    "> Note: the Player scene is added at runtime at the `dynamic_tracker/SpawnPoint` position.\n",
    "\n",
    "### Testing out worlds\n",
    "Avalon comes with a mouse & keyboard mode for debugging.\n",
    "Press the \"play\" button in the upper right hand corner of the editor,\n",
    "which will spawn you in the entry scene.\n",
    "\n",
    "Go to the left hand teleporter, grab buttons on the sign to select a world,\n",
    "and grab the orb on the pillar to teleport to your world\n",
    "(The keybinding help panel can be toggled with `?`).\n",
    "\n",
    "![debug_start](https://user-images.githubusercontent.com/8343799/198162819-d229b510-c952-472d-9067-a3ae26958b03.png)\n",
    "![grab_pillar](https://user-images.githubusercontent.com/8343799/198162847-7c6ed039-8b77-47e5-bb69-e4bf70d069a3.png)\n",
    "![in_level](https://user-images.githubusercontent.com/8343799/198162870-62c2c57f-195c-4c06-9888-6020b9ebaacc.png)\n",
    "\n",
    "> Note: If the player starts wobbling uncontrollably when the game starts,\n",
    "> you're running within a standard godot release and need to instead install and run avalon's\n",
    "> [custom build](https://github.com/Avalon-Benchmark/godot/releases)."
   ]
  }
 ],
 "metadata": {
  "jupytext": {
   "cell_metadata_filter": "-all"
  },
  "kernelspec": {
   "display_name": "Python 3.9.15 ('.venv': venv)",
   "language": "python",
   "name": "python3"
  },
  "language_info": {
   "codemirror_mode": {
    "name": "ipython",
    "version": 3
   },
   "file_extension": ".py",
   "mimetype": "text/x-python",
   "name": "python",
   "nbconvert_exporter": "python",
   "pygments_lexer": "ipython3",
   "version": "3.9.15"
  },
  "vscode": {
   "interpreter": {
    "hash": "528347d627ca314d9b692a715654ec4ad0fefc5c0f18128fee42e51cf8583140"
   }
  }
 },
 "nbformat": 4,
 "nbformat_minor": 5
}
