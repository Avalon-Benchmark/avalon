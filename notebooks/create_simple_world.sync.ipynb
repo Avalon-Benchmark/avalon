{
 "cells": [
  {
   "cell_type": "code",
   "execution_count": 1,
   "id": "31acc86b",
   "metadata": {},
   "outputs": [],
   "source": [
    "from pathlib import Path\n",
    "\n",
    "import numpy as np\n",
    "from scipy import stats\n",
    "\n",
    "from common.log_utils import enable_debug_logging\n",
    "from datagen.world_creation.heightmap import get_oculus_export_config\n",
    "from datagen.world_creation.items import CANONICAL_FOOD_HEIGHT_ON_TREE\n",
    "from datagen.world_creation.items import FOOD_TREE_VISIBLE_HEIGHT\n",
    "from datagen.world_creation.tasks.eat import add_food_tree_for_simple_task\n",
    "from datagen.world_creation.tasks.task_worlds import WorldType\n",
    "from datagen.world_creation.tasks.task_worlds import create_world_for_skill_scenario\n",
    "from datagen.world_creation.tasks.utils import export_skill_world\n",
    "\n",
    "enable_debug_logging()"
   ]
  },
  {
   "cell_type": "code",
   "execution_count": 2,
   "id": "49a03db9",
   "metadata": {},
   "outputs": [],
   "source": [
    "\n",
    "difficulty = 0.5\n",
    "size_in_meters = 50.0\n",
    "world_type = WorldType.CONTINENT\n",
    "\n",
    "base = get_oculus_export_config()\n",
    "\n",
    "\n",
    "export_configs = [\n",
    "    base,\n",
    "]\n",
    "\n",
    "for i, export_config in enumerate(export_configs):\n",
    "    rand = np.random.default_rng(0)\n",
    "\n",
    "    world, locations = create_world_for_skill_scenario(\n",
    "        rand,\n",
    "        difficulty,\n",
    "        CANONICAL_FOOD_HEIGHT_ON_TREE,\n",
    "        stats.norm(size_in_meters, size_in_meters / 5),\n",
    "        world_type=world_type,\n",
    "        export_config=export_config,\n",
    "        visibility_height=FOOD_TREE_VISIBLE_HEIGHT,\n",
    "    )\n",
    "\n",
    "    add_food_tree_for_simple_task(world, locations)\n",
    "    world.add_spawn(rand, difficulty, locations.spawn, locations.goal)\n",
    "\n",
    "    output_path = Path(f\"/tmp/profiling_levels/level_{export_config.name}\")\n",
    "    output_path.mkdir(parents=True, exist_ok=True)\n",
    "    export_skill_world(output_path, rand, world)"
   ]
  },
  {
   "cell_type": "code",
   "execution_count": null,
   "id": "c611a546",
   "metadata": {},
   "outputs": [],
   "source": []
  }
 ],
 "metadata": {
  "jupytext": {
   "cell_metadata_filter": "-all",
   "main_language": "python",
   "notebook_metadata_filter": "-all"
  },
  "kernelspec": {
   "display_name": "Python 3 (ipykernel)",
   "language": "python",
   "name": "python3"
  },
  "language_info": {
   "codemirror_mode": {
    "name": "ipython",
    "version": 3
   },
   "file_extension": ".py",
   "mimetype": "text/x-python",
   "name": "python",
   "nbconvert_exporter": "python",
   "pygments_lexer": "ipython3",
   "version": "3.9.5"
  }
 },
 "nbformat": 4,
 "nbformat_minor": 5
}
