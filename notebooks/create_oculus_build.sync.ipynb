{
  "cells": [
    {
      "cell_type": "code",
      "execution_count": null,
      "metadata": {
        "pycharm": {
          "name": ""
        }
      },
      "outputs": [],
      "source": [
        "import os\n",
        "from pathlib import Path\n",
        "\n",
        "from loguru import logger\n",
        "\n",
        "from avalon.common.imports import tqdm\n",
        "from avalon.common.log_utils import enable_debug_logging\n",
        "from avalon.contrib.utils import FILESYSTEM_ROOT\n",
        "from avalon.contrib.utils import TEMP_DIR\n",
        "from avalon.datagen.generate_apks import add_apk_version_to_server\n",
        "from avalon.datagen.generate_apks import add_worlds_to_server\n",
        "from avalon.datagen.generate_apks import generate_apk\n",
        "from avalon.datagen.generate_apks import generate_apks\n",
        "from avalon.datagen.generate_apks import upload_apk_to_server\n",
        "from avalon.datagen.generate_worlds import generate_evaluation_worlds\n",
        "from avalon.datagen.world_creation.constants import AvalonTask\n",
        "\n",
        "enable_debug_logging()"
      ]
    },
    {
      "cell_type": "code",
      "execution_count": null,
      "metadata": {},
      "outputs": [],
      "source": [
        "\n",
        "RELEASE_BUILD = False\n",
        "INCLUDE_WORLDS = True\n",
        "PARALLEL_BUILD = False\n",
        "\n",
        "if RELEASE_BUILD:\n",
        "    APK_VERSION = \"\"\n",
        "else:\n",
        "    APK_VERSION = \"debug\"\n",
        "\n",
        "assert APK_VERSION != \"\", \"Run `git rev-parse HEAD` and set the APK version to be the most recent git hash.\"\n",
        "\n",
        "logger.info(f\"{APK_VERSION=}\")\n",
        "\n",
        "worlds_path = Path(f\"{FILESYSTEM_ROOT}/avalon/worlds/{APK_VERSION}\")\n",
        "worlds_path.mkdir(parents=True, exist_ok=True)"
      ]
    },
    {
      "cell_type": "code",
      "execution_count": null,
      "metadata": {},
      "outputs": [],
      "source": [
        "\n",
        "tasks = [\n",
        "    AvalonTask.EAT,\n",
        "    # AvalonTask.MOVE,\n",
        "    # AvalonTask.JUMP,\n",
        "    # AvalonTask.CLIMB,\n",
        "    # AvalonTask.DESCEND,\n",
        "    # AvalonTask.SCRAMBLE,\n",
        "    # AvalonTask.STACK,\n",
        "    # AvalonTask.BRIDGE,\n",
        "    # AvalonTask.PUSH,\n",
        "    # AvalonTask.THROW,\n",
        "    # AvalonTask.HUNT,\n",
        "    # AvalonTask.FIGHT,\n",
        "    # AvalonTask.AVOID,\n",
        "    # AvalonTask.EXPLORE,\n",
        "    # AvalonTask.OPEN,\n",
        "    # AvalonTask.CARRY,\n",
        "    # AvalonTask.NAVIGATE,\n",
        "    # AvalonTask.FIND,\n",
        "    # AvalonTask.SURVIVE,\n",
        "    # AvalonTask.GATHER,\n",
        "]"
      ]
    },
    {
      "cell_type": "code",
      "execution_count": null,
      "metadata": {},
      "outputs": [],
      "source": [
        "practice_worlds = generate_evaluation_worlds(\n",
        "    base_output_path=worlds_path,\n",
        "    tasks=tasks,\n",
        "    num_worlds_per_task=10,\n",
        "    start_seed=10000,\n",
        "    is_practice=True,\n",
        "    min_difficulty=0.0,\n",
        "    is_recreating=True,\n",
        "    is_generating_for_human=True,\n",
        "    num_workers=64,\n",
        ")"
      ]
    },
    {
      "cell_type": "code",
      "execution_count": null,
      "metadata": {},
      "outputs": [],
      "source": [
        "\n",
        "if RELEASE_BUILD:\n",
        "    actual_worlds = generate_evaluation_worlds(\n",
        "        base_output_path=worlds_path,\n",
        "        tasks=tasks,\n",
        "        num_worlds_per_task=50,\n",
        "        start_seed=0,\n",
        "        is_practice=False,\n",
        "        min_difficulty=0.0,\n",
        "        is_recreating=True,\n",
        "        is_generating_for_human=False,\n",
        "        num_workers=64,\n",
        "    )\n",
        "else:\n",
        "    actual_worlds = []"
      ]
    },
    {
      "cell_type": "code",
      "execution_count": null,
      "metadata": {},
      "outputs": [],
      "source": [
        "\n",
        "if RELEASE_BUILD:\n",
        "    # makes an API request to the server to create new directories for the worlds\n",
        "    #   NOTE: does not copy the worlds\n",
        "    if len(practice_worlds) > 0:\n",
        "        add_worlds_to_server(practice_worlds)\n",
        "    if len(actual_worlds) > 0:\n",
        "        add_worlds_to_server(actual_worlds)\n",
        "    # make sure this apk version is valid\n",
        "    add_apk_version_to_server(APK_VERSION)"
      ]
    },
    {
      "cell_type": "code",
      "execution_count": null,
      "metadata": {},
      "outputs": [],
      "source": [
        "\n",
        "godot_path = Path(\"avalon/datagen/godot\")\n",
        "tmp_path = Path(f\"{TEMP_DIR}/avalon/apks\")\n",
        "output_path = Path(f\"{FILESYSTEM_ROOT}/avalon/apks\")\n",
        "apk_script = f\"{os.getcwd()}/scripts/apk.sh\"\n",
        "\n",
        "participant_ids = [\"your_participant_ids_here\"]\n",
        "\n",
        "output_apks = []\n",
        "if PARALLEL_BUILD:\n",
        "    output_apks.extend(\n",
        "        generate_apks(\n",
        "            godot_path=godot_path,\n",
        "            worlds_path=worlds_path,\n",
        "            tmp_path=tmp_path,\n",
        "            output_path=output_path,\n",
        "            apk_script=apk_script,\n",
        "            participant_ids=participant_ids,\n",
        "            apk_version=APK_VERSION,\n",
        "            include_worlds=INCLUDE_WORLDS,\n",
        "            is_output_traced=False,\n",
        "        )\n",
        "    )\n",
        "else:\n",
        "    for participant_id in tqdm(participant_ids):\n",
        "        out = generate_apk(\n",
        "            godot_path=godot_path,\n",
        "            worlds_path=worlds_path,\n",
        "            tmp_path=tmp_path,\n",
        "            output_path=output_path,\n",
        "            apk_script=apk_script,\n",
        "            participant_id=participant_id,\n",
        "            apk_version=APK_VERSION,\n",
        "            include_worlds=INCLUDE_WORLDS,\n",
        "            is_output_traced=True,\n",
        "        )\n",
        "        output_apks.append(out)\n",
        "\n",
        "logger.info(\"APK content hashes, excluding android/config.json:\")\n",
        "for output in output_apks:\n",
        "    logger.info(f\"{output['apk_hash']} {output['apk_file']}\")\n",
        "\n",
        "    if RELEASE_BUILD:\n",
        "        upload_apk_to_server(output[\"apk_file\"])"
      ]
    },
    {
      "cell_type": "code",
      "execution_count": null,
      "metadata": {},
      "outputs": [],
      "source": []
    }
  ],
  "metadata": {
    "kernelspec": {
      "display_name": "Python 3 (ipykernel)",
      "language": "python",
      "name": "python3"
    }
  },
  "nbformat": 4,
  "nbformat_minor": 4
}
