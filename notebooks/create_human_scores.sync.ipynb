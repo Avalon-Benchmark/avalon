{
 "cells": [
  {
   "cell_type": "code",
   "execution_count": 1,
   "id": "c69d19e8",
   "metadata": {
    "lines_to_next_cell": 2,
    "pycharm": {
     "name": "#%%\n"
    }
   },
   "outputs": [],
   "source": [
    "import gzip\n",
    "import json\n",
    "import shutil\n",
    "from collections import defaultdict\n",
    "from multiprocessing import Pool\n",
    "from pathlib import Path\n",
    "from typing import Tuple\n",
    "\n",
    "from common.imports import tqdm\n",
    "from common.log_utils import enable_debug_logging\n",
    "from contrib.s3_utils import SimpleS3Client\n",
    "from contrib.utils import TEMP_DIR\n",
    "from datagen.human_playback import DEFAULT_AVAILABLE_FEATURES\n",
    "from datagen.human_playback import get_observations_from_human_recording\n",
    "\n",
    "enable_debug_logging()"
   ]
  },
  {
   "cell_type": "code",
   "execution_count": 2,
   "id": "32c163ee",
   "metadata": {
    "pycharm": {
     "name": "#%%\n"
    }
   },
   "outputs": [
    {
     "name": "stdout",
     "output_type": "stream",
     "text": [
      "WARNING: no `access_key` or `secret_key` found for AWS, can only access public resources.\n"
     ]
    }
   ],
   "source": [
    "\n",
    "AVALON_BUCKET_NAME = \"avalon-benchmark\"\n",
    "OBSERVATION_KEY = \"avalon__all_observations__935781fe-267d-4dcd-9698-714cc891e985.tar.gz\"\n",
    "\n",
    "s3_client = SimpleS3Client(bucket_name=AVALON_BUCKET_NAME)\n",
    "\n",
    "output_path = Path(f\"{TEMP_DIR}/avalon\")\n",
    "output_path.mkdir(parents=True, exist_ok=True)\n",
    "\n",
    "observation_path = output_path / \"observation\"\n",
    "observation_path.mkdir(parents=True, exist_ok=True)\n",
    "\n",
    "s3_client.download_to_file(key=OBSERVATION_KEY, output_path=output_path / OBSERVATION_KEY)\n",
    "shutil.unpack_archive(output_path / OBSERVATION_KEY, observation_path, \"gztar\")\n",
    "\n",
    "assert observation_path.exists()"
   ]
  },
  {
   "cell_type": "code",
   "execution_count": 3,
   "id": "0b1d5ca2",
   "metadata": {
    "pycharm": {
     "name": "#%%\n"
    }
   },
   "outputs": [],
   "source": [
    "\n",
    "\n",
    "def get_starting_hit_points(task: str) -> float:\n",
    "    if task in [\"survive\", \"find\", \"gather\", \"navigate\"]:\n",
    "        return 3.0\n",
    "    elif task in [\"stack\", \"carry\", \"explore\"]:\n",
    "        return 2.0\n",
    "    else:\n",
    "        return 1.0\n",
    "\n",
    "\n",
    "def get_energy_cost_per_frame(starting_hit_points: float, task: str) -> float:\n",
    "    if task in [\"survive\", \"find\", \"gather\", \"navigate\"]:\n",
    "        return starting_hit_points / (15.0 * 60.0 * 10)\n",
    "    elif task in [\"stack\", \"carry\", \"explore\"]:\n",
    "        return starting_hit_points / (10.0 * 60.0 * 10)\n",
    "    else:\n",
    "        return starting_hit_points / (5.0 * 60.0 * 10)\n",
    "\n",
    "\n",
    "def get_human_playback_files_for_world_id(human_playback_path: Path) -> Tuple[Path, Path, Path, Path]:\n",
    "    paths = (\n",
    "        human_playback_path / \"actions.out\",\n",
    "        human_playback_path / \"metadata.json\",\n",
    "        human_playback_path / \"observations.out\",\n",
    "        human_playback_path / \"human_inputs.out\",\n",
    "    )\n",
    "\n",
    "    for raw_path in paths:\n",
    "        path = Path(f\"{raw_path}.gz\")\n",
    "        if path.exists():\n",
    "            with gzip.open(str(path), \"rb\") as f_in:\n",
    "                with open(raw_path, \"wb\") as f_out:\n",
    "                    shutil.copyfileobj(f_in, f_out)\n",
    "\n",
    "    return paths\n",
    "\n",
    "\n",
    "def get_human_score_from_observation(\n",
    "    world_id: str,\n",
    "    user_id: str,\n",
    "    user_path: Path,\n",
    "    is_using_energy_expenditure: bool = False,\n",
    "):\n",
    "    task = world_id.split(\"__\")[0]\n",
    "\n",
    "    _, _, observations_path, _ = get_human_playback_files_for_world_id(human_playback_path=user_path)\n",
    "    observations_path = user_path / \"observations.out\"\n",
    "\n",
    "    if not observations_path.exists():\n",
    "        path = Path(f\"{observations_path}.gz\")\n",
    "        if path.exists():\n",
    "            with gzip.open(str(path), \"rb\") as f_in:\n",
    "                with open(observations_path, \"wb\") as f_out:\n",
    "                    shutil.copyfileobj(f_in, f_out)\n",
    "        else:\n",
    "            return dict(world_id=world_id, user_id=user_id, score=0.0, is_error=True, is_reset=False)\n",
    "\n",
    "    is_reset = (user_path / \"reset.marker\").exists()\n",
    "\n",
    "    human_observations = get_observations_from_human_recording(\n",
    "        observations_path=str(observations_path),\n",
    "        available_features=DEFAULT_AVAILABLE_FEATURES,\n",
    "    )\n",
    "\n",
    "    hit_points = get_starting_hit_points(task)\n",
    "    energy_cost = get_energy_cost_per_frame(hit_points, task)\n",
    "\n",
    "    # NOTE: not using energy expenditure because humans spend a lot of energy on long levels\n",
    "    total_energy_coefficient = 1e-4\n",
    "    body_kinetic_energy_coefficient = 0.0\n",
    "    body_potential_energy_coefficient = 0.0\n",
    "    head_potential_energy_coefficient = 0.0\n",
    "    left_hand_kinetic_energy_coefficient = 0.0\n",
    "    left_hand_potential_energy_coefficient = 0.0\n",
    "    right_hand_kinetic_energy_coefficient = 0.0\n",
    "    right_hand_potential_energy_coefficient = 0.0\n",
    "\n",
    "    # skip the first frame because there are extremely high energy costs\n",
    "    for obs in human_observations[1:]:\n",
    "        total_energy_expenditure = (\n",
    "            body_kinetic_energy_coefficient * obs.physical_body_kinetic_energy_expenditure.item()\n",
    "            + body_potential_energy_coefficient * obs.physical_body_potential_energy_expenditure.item()\n",
    "            + head_potential_energy_coefficient * obs.physical_head_potential_energy_expenditure.item()\n",
    "            + left_hand_kinetic_energy_coefficient * obs.physical_left_hand_kinetic_energy_expenditure.item()\n",
    "            + left_hand_potential_energy_coefficient * obs.physical_left_hand_potential_energy_expenditure.item()\n",
    "            + right_hand_kinetic_energy_coefficient * obs.physical_right_hand_kinetic_energy_expenditure.item()\n",
    "            + right_hand_potential_energy_coefficient * obs.physical_right_hand_potential_energy_expenditure.item()\n",
    "        )\n",
    "        total_energy_expenditure *= total_energy_coefficient\n",
    "\n",
    "        hit_points += obs.reward.item() - energy_cost\n",
    "\n",
    "        if is_using_energy_expenditure:\n",
    "            hit_points -= total_energy_expenditure\n",
    "\n",
    "        if obs.is_dead:\n",
    "            return dict(world_id=world_id, user_id=user_id, score=0.0, is_error=False, is_reset=is_reset)\n",
    "        if obs.is_food_present_in_world < 0.1:\n",
    "            return dict(world_id=world_id, user_id=user_id, score=hit_points, is_error=False, is_reset=is_reset)\n",
    "\n",
    "    return dict(world_id=world_id, user_id=user_id, score=max(0.0, hit_points), is_error=False, is_reset=is_reset)"
   ]
  },
  {
   "cell_type": "code",
   "execution_count": 4,
   "id": "8a87d947",
   "metadata": {
    "pycharm": {
     "name": "#%%\n"
    }
   },
   "outputs": [
    {
     "data": {
      "application/vnd.jupyter.widget-view+json": {
       "model_id": "7d5e8d6ed89142db99c275d56f2239a8",
       "version_major": 2,
       "version_minor": 0
      },
      "text/plain": [
       "  0%|          | 0/7111 [00:00<?, ?it/s]"
      ]
     },
     "metadata": {},
     "output_type": "display_data"
    }
   ],
   "source": [
    "\n",
    "score_by_world_id = defaultdict(dict)\n",
    "resets_by_user_id = defaultdict(list)\n",
    "all_errors = []\n",
    "\n",
    "\n",
    "def on_done(result):\n",
    "    if not result.get(\"is_error\"):\n",
    "        world_id = result[\"world_id\"]\n",
    "        user_id = result[\"user_id\"]\n",
    "        score = result[\"score\"]\n",
    "        score_by_world_id[world_id][user_id] = score\n",
    "        if result.get(\"is_reset\"):\n",
    "            resets_by_user_id[user_id].append(world_id)\n",
    "\n",
    "\n",
    "def on_error(error: BaseException):\n",
    "    print(\"Evaluation failed!\")\n",
    "    all_errors.append(error)\n",
    "    raise error\n",
    "\n",
    "\n",
    "num_processes = 20\n",
    "\n",
    "results = []\n",
    "\n",
    "with Pool(processes=num_processes) as worker_pool:\n",
    "    requests = []\n",
    "    for world_path in list(observation_path.iterdir()):\n",
    "        world_id = world_path.name\n",
    "        if (world_path / \"ignored.marker\").exists() or world_id.startswith(\"practice\"):\n",
    "            continue\n",
    "        for user_path in world_path.iterdir():\n",
    "            user_id = user_path.name\n",
    "            if (user_path / \"crash\").exists():\n",
    "                continue\n",
    "\n",
    "            task_name, seed, difficulty = world_id.split(\"__\")\n",
    "            cleaned_world_id = f\"{task_name}__{int(seed)}__{difficulty}\"\n",
    "\n",
    "            request = worker_pool.apply_async(\n",
    "                get_human_score_from_observation,\n",
    "                kwds={\n",
    "                    \"world_id\": cleaned_world_id,\n",
    "                    \"user_id\": user_id,\n",
    "                    \"user_path\": user_path,\n",
    "                },\n",
    "                callback=on_done,\n",
    "                error_callback=on_error,\n",
    "            )\n",
    "            requests.append(request)\n",
    "    for request in tqdm(requests):\n",
    "        request.wait()\n",
    "        if request._success:\n",
    "            results.append(request.get())\n",
    "    worker_pool.close()\n",
    "    worker_pool.join()"
   ]
  },
  {
   "cell_type": "code",
   "execution_count": null,
   "id": "a5ca6121",
   "metadata": {
    "pycharm": {
     "name": "#%%\n"
    }
   },
   "outputs": [],
   "source": []
  }
 ],
 "metadata": {
  "jupytext": {
   "cell_metadata_filter": "-all",
   "main_language": "python",
   "notebook_metadata_filter": "-all"
  },
  "kernelspec": {
   "display_name": "Python 3 (ipykernel)",
   "language": "python",
   "name": "python3"
  },
  "language_info": {
   "codemirror_mode": {
    "name": "ipython",
    "version": 3
   },
   "file_extension": ".py",
   "mimetype": "text/x-python",
   "name": "python",
   "nbconvert_exporter": "python",
   "pygments_lexer": "ipython3",
   "version": "3.9.5"
  }
 },
 "nbformat": 4,
 "nbformat_minor": 5
}