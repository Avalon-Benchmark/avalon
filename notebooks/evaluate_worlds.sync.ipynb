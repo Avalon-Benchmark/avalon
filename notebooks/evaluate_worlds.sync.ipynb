{
  "cells": [
    {
      "cell_type": "code",
      "execution_count": null,
      "metadata": {
        "pycharm": {
          "name": ""
        }
      },
      "outputs": [],
      "source": [
        "import shutil\n",
        "from pathlib import Path\n",
        "\n",
        "from avalon.common.log_utils import configure_local_logger\n",
        "from avalon.datagen.env_helper import display_video\n",
        "from avalon.datagen.env_helper import visualize_worlds_in_folder\n",
        "from avalon.datagen.generate_worlds import generate_evaluation_worlds\n",
        "from avalon.datagen.world_creation.constants import AvalonTask\n",
        "from avalon.datagen.world_creation.types import DebugVisualizationConfig\n",
        "\n",
        "configure_local_logger()\n",
        "\n",
        "NUM_WORLDS = 10\n",
        "IS_GRAPH_MODE = False\n",
        "\n",
        "\n",
        "tasks = [\n",
        "    # AvalonTask.SURVIVE,\n",
        "    # AvalonTask.THROW,\n",
        "    # AvalonTask.CARRY,\n",
        "    # needs to be tested:\n",
        "    # AvalonTask.DESCEND,\n",
        "    # AvalonTask.HUNT,\n",
        "    # AvalonTask.FIGHT,\n",
        "    # AvalonTask.AVOID,\n",
        "    # AvalonTask.FIND,\n",
        "    # AvalonTask.EXPLORE,\n",
        "    # AvalonTask.SCRAMBLE,\n",
        "    AvalonTask.NAVIGATE,\n",
        "    # AvalonTask.GATHER,\n",
        "    # AvalonTask.OPEN,\n",
        "    # AvalonTask.EAT,\n",
        "    # AvalonTask.MOVE,\n",
        "    # AvalonTask.JUMP,\n",
        "    # AvalonTask.CLIMB,\n",
        "    # AvalonTask.STACK,\n",
        "    # AvalonTask.BRIDGE,\n",
        "    # AvalonTask.PUSH,\n",
        "]\n",
        "\n",
        "\n",
        "base_output_path = Path(\"/tmp/levels/visualize/\")\n",
        "if base_output_path.exists():\n",
        "    shutil.rmtree(base_output_path)\n",
        "base_output_path.mkdir(parents=True, exist_ok=True)"
      ]
    },
    {
      "cell_type": "code",
      "execution_count": null,
      "metadata": {},
      "outputs": [],
      "source": [
        "actual_worlds = generate_evaluation_worlds(\n",
        "    base_output_path=base_output_path,\n",
        "    tasks=tasks,\n",
        "    num_worlds_per_task=NUM_WORLDS,\n",
        "    start_seed=0,\n",
        "    is_practice=False,\n",
        "    min_difficulty=0.0,\n",
        "    is_recreating=True,\n",
        "    debug_visualization_config=DebugVisualizationConfig(is_2d_graph_drawn=IS_GRAPH_MODE),\n",
        "    is_async=not IS_GRAPH_MODE,\n",
        "    is_generating_for_human=True,\n",
        ")"
      ]
    },
    {
      "cell_type": "code",
      "execution_count": null,
      "metadata": {},
      "outputs": [],
      "source": [
        "NUM_ACTIONS = 20\n",
        "RESOLUTION = 512\n",
        "\n",
        "world_paths = [base_output_path / x.world_id for x in actual_worlds]\n",
        "all_observations = visualize_worlds_in_folder(world_paths, RESOLUTION, NUM_ACTIONS)\n",
        "\n",
        "for obs in all_observations:\n",
        "    display_video(obs, size=(RESOLUTION, RESOLUTION))"
      ]
    }
  ],
  "metadata": {
    "kernelspec": {
      "display_name": "Python 3 (ipykernel)",
      "language": "python",
      "name": "python3"
    },
    "language_info": {
      "codemirror_mode": {
        "name": "ipython",
        "version": 3
      },
      "file_extension": ".py",
      "mimetype": "text/x-python",
      "name": "python",
      "nbconvert_exporter": "python",
      "pygments_lexer": "ipython3",
      "version": "3.9.5"
    }
  },
  {
   "cell_type": "code",
   "execution_count": null,
   "id": "7d73f126",
   "metadata": {},
   "outputs": [],
   "source": [
    "import shutil\n",
    "from pathlib import Path\n",
    "\n",
    "from avalon.common.log_utils import enable_debug_logging\n",
    "from avalon.datagen.env_helper import display_video\n",
    "from avalon.datagen.env_helper import visualize_worlds_in_folder\n",
    "from avalon.datagen.generate_worlds import generate_evaluation_worlds\n",
    "from avalon.datagen.world_creation.constants import AvalonTask\n",
    "from avalon.datagen.world_creation.types import DebugVisualizationConfig\n",
    "\n",
    "enable_debug_logging()\n",
    "\n",
    "NUM_WORLDS = 10\n",
    "IS_GRAPH_MODE = False\n",
    "\n",
    "\n",
    "tasks = [\n",
    "    # AvalonTask.SURVIVE,\n",
    "    # AvalonTask.THROW,\n",
    "    # AvalonTask.CARRY,\n",
    "    # needs to be tested:\n",
    "    # AvalonTask.DESCEND,\n",
    "    # AvalonTask.HUNT,\n",
    "    # AvalonTask.FIGHT,\n",
    "    # AvalonTask.AVOID,\n",
    "    # AvalonTask.FIND,\n",
    "    # AvalonTask.EXPLORE,\n",
    "    # AvalonTask.SCRAMBLE,\n",
    "    AvalonTask.NAVIGATE,\n",
    "    # AvalonTask.GATHER,\n",
    "    # AvalonTask.OPEN,\n",
    "    # AvalonTask.EAT,\n",
    "    # AvalonTask.MOVE,\n",
    "    # AvalonTask.JUMP,\n",
    "    # AvalonTask.CLIMB,\n",
    "    # AvalonTask.STACK,\n",
    "    # AvalonTask.BRIDGE,\n",
    "    # AvalonTask.PUSH,\n",
    "]\n",
    "\n",
    "\n",
    "base_output_path = Path(\"/tmp/levels/visualize/\")\n",
    "if base_output_path.exists():\n",
    "    shutil.rmtree(base_output_path)\n",
    "base_output_path.mkdir(parents=True, exist_ok=True)"
   ]
  },
  {
   "cell_type": "code",
   "execution_count": null,
   "id": "b65261ca",
   "metadata": {},
   "outputs": [],
   "source": [
    "# Warning: For the worlds to be playable by agent, you must comment out the debug_visualization_config\n",
    "# flag, since it replaces food with big orbs to be easier to visualize, but there will be no actual\n",
    "# food objects in the world.\n",
    "actual_worlds = generate_evaluation_worlds(\n",
    "    base_output_path=base_output_path,\n",
    "    tasks=tasks,\n",
    "    num_worlds_per_task=NUM_WORLDS,\n",
    "    start_seed=0,\n",
    "    is_practice=False,\n",
    "    min_difficulty=0.0,\n",
    "    is_recreating=True,\n",
    "    debug_visualization_config=DebugVisualizationConfig(is_2d_graph_drawn=IS_GRAPH_MODE),\n",
    "    is_async=not IS_GRAPH_MODE,\n",
    "    is_generating_for_human=True,\n",
    ")"
   ]
  },
  {
   "cell_type": "code",
   "execution_count": null,
   "id": "52a52feb",
   "metadata": {},
   "outputs": [],
   "source": [
    "NUM_ACTIONS = 20\n",
    "RESOLUTION = 512\n",
    "\n",
    "world_paths = [base_output_path / x.world_id for x in actual_worlds]\n",
    "all_observations = visualize_worlds_in_folder(world_paths, RESOLUTION, NUM_ACTIONS)\n",
    "\n",
    "for obs in all_observations:\n",
    "    display_video(obs, size=(RESOLUTION, RESOLUTION))"
   ]
  }
 ],
 "metadata": {
  "jupytext": {
   "cell_metadata_filter": "-all",
   "formats": "auto:percent,ipynb",
   "main_language": "python",
   "notebook_metadata_filter": "-all"
  },
  "kernelspec": {
   "display_name": "Python 3 (ipykernel)",
   "language": "python",
   "name": "python3"
  },
  "language_info": {
   "codemirror_mode": {
    "name": "ipython",
    "version": 3
   },
   "file_extension": ".py",
   "mimetype": "text/x-python",
   "name": "python",
   "nbconvert_exporter": "python",
   "pygments_lexer": "ipython3",
   "version": "3.9.5"
  }
 },
 "nbformat": 4,
 "nbformat_minor": 5
}
